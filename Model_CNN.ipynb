{
  "nbformat": 4,
  "nbformat_minor": 0,
  "metadata": {
    "colab": {
      "name": "Model_CNN.ipynb",
      "version": "0.3.2",
      "provenance": [],
      "collapsed_sections": []
    },
    "kernelspec": {
      "name": "python3",
      "display_name": "Python 3"
    },
    "accelerator": "TPU"
  },
  "cells": [
    {
      "cell_type": "code",
      "metadata": {
        "id": "-vK21pbxhI8q",
        "colab_type": "code",
        "outputId": "d76367b9-ce24-42e0-c609-a8c41ba7df9c",
        "colab": {
          "base_uri": "https://localhost:8080/",
          "height": 124
        }
      },
      "source": [
        "from google.colab import drive\n",
        "drive.mount('/content/drive')"
      ],
      "execution_count": 0,
      "outputs": [
        {
          "output_type": "stream",
          "text": [
            "Go to this URL in a browser: https://accounts.google.com/o/oauth2/auth?client_id=947318989803-6bn6qk8qdgf4n4g3pfee6491hc0brc4i.apps.googleusercontent.com&redirect_uri=urn%3Aietf%3Awg%3Aoauth%3A2.0%3Aoob&scope=email%20https%3A%2F%2Fwww.googleapis.com%2Fauth%2Fdocs.test%20https%3A%2F%2Fwww.googleapis.com%2Fauth%2Fdrive%20https%3A%2F%2Fwww.googleapis.com%2Fauth%2Fdrive.photos.readonly%20https%3A%2F%2Fwww.googleapis.com%2Fauth%2Fpeopleapi.readonly&response_type=code\n",
            "\n",
            "Enter your authorization code:\n",
            "··········\n",
            "Mounted at /content/drive\n"
          ],
          "name": "stdout"
        }
      ]
    },
    {
      "cell_type": "code",
      "metadata": {
        "id": "b1er4pvHhTJ8",
        "colab_type": "code",
        "outputId": "7ab22dbe-2fb7-47a4-e1b0-2bbe87fa24d9",
        "colab": {
          "base_uri": "https://localhost:8080/",
          "height": 34
        }
      },
      "source": [
        "!ls"
      ],
      "execution_count": 0,
      "outputs": [
        {
          "output_type": "stream",
          "text": [
            "drive  sample_data\n"
          ],
          "name": "stdout"
        }
      ]
    },
    {
      "cell_type": "code",
      "metadata": {
        "id": "qzeXniJuhcZ3",
        "colab_type": "code",
        "colab": {}
      },
      "source": [
        "import os\n",
        "os.chdir('./drive/My Drive/Signature_Forgery')"
      ],
      "execution_count": 0,
      "outputs": []
    },
    {
      "cell_type": "code",
      "metadata": {
        "id": "QxvX3RDahpqc",
        "colab_type": "code",
        "outputId": "d90bd938-71c9-431a-f85c-3da81b72593c",
        "colab": {
          "base_uri": "https://localhost:8080/",
          "height": 34
        }
      },
      "source": [
        "import cv2                 \n",
        "import numpy as np         \n",
        "import os                  \n",
        "from random import shuffle \n",
        "from tqdm import tqdm \n",
        "import numpy as np\n",
        "\n",
        "from keras.utils import to_categorical\n",
        "import matplotlib.pyplot as plt\n",
        "\n",
        "import keras\n",
        "from keras.models import Sequential,Input,Model\n",
        "from keras.layers import Dense, Dropout, Flatten\n",
        "from keras.layers import Conv2D, MaxPooling2D\n",
        "from keras.layers.normalization import BatchNormalization\n",
        "from keras.layers.advanced_activations import LeakyReLU\n",
        "\n",
        "from sklearn.model_selection import train_test_split"
      ],
      "execution_count": 0,
      "outputs": [
        {
          "output_type": "stream",
          "text": [
            "Using TensorFlow backend.\n"
          ],
          "name": "stderr"
        }
      ]
    },
    {
      "cell_type": "code",
      "metadata": {
        "id": "jMl75x6SivIz",
        "colab_type": "code",
        "colab": {}
      },
      "source": [
        "TRAIN_DIR = 'data/train_set'\n",
        "TEST_DIR = 'data/test_set'\n",
        "IMG_SIZE = 28"
      ],
      "execution_count": 0,
      "outputs": []
    },
    {
      "cell_type": "code",
      "metadata": {
        "id": "5MTOzVL3i-Pb",
        "colab_type": "code",
        "colab": {}
      },
      "source": [
        "def label_img(img):\n",
        "    image_label = img.split('.')\n",
        "    name = image_label[0]\n",
        "    # checking if the signature is forged or genuine\n",
        "    #                            \n",
        "    \n",
        "    if name[4:7] == name[-3:]:\n",
        "        return 1\n",
        "  \n",
        "    elif name[4:7] != name[-3:]:\n",
        "        return 0\n",
        "\n",
        "def person_img(img):\n",
        "    label = img.split('.')\n",
        "    k = label[0]\n",
        "    return [k[-3:]]\n",
        "\n",
        "\n",
        "def create_features(DIR):\n",
        "    features = []\n",
        "    labels = []\n",
        "    for img in tqdm(os.listdir(DIR)):\n",
        "        label = label_img(img)\n",
        "        person = person_img(img)\n",
        "       \n",
        "        path = os.path.join(DIR,img)\n",
        "        img = cv2.imread(path,cv2.IMREAD_GRAYSCALE)\n",
        "        img = cv2.resize(img, (IMG_SIZE,IMG_SIZE))\n",
        "        features.append([img])\n",
        "        labels.append(np.array(label))\n",
        "    #shuffle(training_data)\n",
        "    #np.save('train_data.npy', training_data)\n",
        "    return features\n",
        "\n",
        "def create_labels(DIR):\n",
        "    labels = []\n",
        "    for img in tqdm(os.listdir(DIR)):\n",
        "        label = label_img(img)\n",
        "        labels.append(np.array(label))\n",
        "    return labels"
      ],
      "execution_count": 0,
      "outputs": []
    },
    {
      "cell_type": "code",
      "metadata": {
        "id": "33X6BHLgjBnO",
        "colab_type": "code",
        "outputId": "c8c24da8-8171-4d99-df19-d31c74348e0b",
        "colab": {
          "base_uri": "https://localhost:8080/",
          "height": 86
        }
      },
      "source": [
        "train_features  = np.array(create_features(TRAIN_DIR))\n",
        "test_features  = np.array(create_features(TEST_DIR))\n",
        "train_features_reshaped = train_features.reshape(-1, IMG_SIZE,IMG_SIZE, 1)\n",
        "test_features_reshaped = test_features.reshape(-1, IMG_SIZE,IMG_SIZE, 1)\n",
        "\n",
        "train_features_reshaped = train_features_reshaped.astype('float32')\n",
        "test_features_reshaped = test_features_reshaped.astype('float32')\n",
        "train_features_reshaped = train_features_reshaped / 255.\n",
        "test_features_reshaped = test_features_reshaped / 255.\n",
        "\n",
        "train_labels = np.array(create_labels(TRAIN_DIR))\n",
        "test_labels = np.array(create_labels(TEST_DIR))\n",
        "\n",
        "\n",
        "train_labels_one_hot = to_categorical(train_labels)\n",
        "test_labels_one_hot = to_categorical(test_labels)"
      ],
      "execution_count": 0,
      "outputs": [
        {
          "output_type": "stream",
          "text": [
            "100%|██████████| 179/179 [00:02<00:00, 75.59it/s]\n",
            "100%|██████████| 121/121 [00:01<00:00, 71.78it/s]\n",
            "100%|██████████| 179/179 [00:00<00:00, 226002.53it/s]\n",
            "100%|██████████| 121/121 [00:00<00:00, 172564.02it/s]\n"
          ],
          "name": "stderr"
        }
      ]
    },
    {
      "cell_type": "code",
      "metadata": {
        "id": "Ph53c1fb7UAE",
        "colab_type": "code",
        "colab": {}
      },
      "source": [
        "X_train,X_validate,Y_train,Y_validate = train_test_split(train_features_reshaped, train_labels_one_hot,test_size=0.20,random_state = 42)"
      ],
      "execution_count": 0,
      "outputs": []
    },
    {
      "cell_type": "code",
      "metadata": {
        "id": "0esNWIs4XA-5",
        "colab_type": "code",
        "outputId": "02714cb0-807d-423f-a858-aeee96b99493",
        "colab": {
          "base_uri": "https://localhost:8080/",
          "height": 34
        }
      },
      "source": [
        "X_train.shape"
      ],
      "execution_count": 0,
      "outputs": [
        {
          "output_type": "execute_result",
          "data": {
            "text/plain": [
              "(143, 28, 28, 1)"
            ]
          },
          "metadata": {
            "tags": []
          },
          "execution_count": 20
        }
      ]
    },
    {
      "cell_type": "code",
      "metadata": {
        "id": "RbNcl2IxkJ_D",
        "colab_type": "code",
        "colab": {}
      },
      "source": [
        "batch_size = 64\n",
        "epochs = 50\n",
        "num_classes = 2"
      ],
      "execution_count": 0,
      "outputs": []
    },
    {
      "cell_type": "code",
      "metadata": {
        "id": "q-aqflnYkuP2",
        "colab_type": "code",
        "outputId": "16b13884-0824-4830-e39c-297cf5fc2f8c",
        "colab": {
          "base_uri": "https://localhost:8080/",
          "height": 555
        }
      },
      "source": [
        "model = Sequential()\n",
        "model.add(Conv2D(64,kernel_size=(3,3),activation = 'linear',input_shape=(IMG_SIZE,IMG_SIZE,1),padding='same'))\n",
        "model.add(LeakyReLU(alpha=0.1))\n",
        "model.add(MaxPooling2D((2,2),padding='same'))\n",
        "model.add(Conv2D(32,kernel_size=(3,3),activation = 'linear',padding='same'))\n",
        "model.add(LeakyReLU(alpha=0.1))\n",
        "model.add(MaxPooling2D((2,2),padding='same'))\n",
        "model.add(Flatten())\n",
        "model.add(Dense(1000, activation='linear'))\n",
        "model.add(LeakyReLU(alpha=0.1))   \n",
        "model.add(Dense(100, activation='linear'))\n",
        "model.add(LeakyReLU(alpha=0.1))   \n",
        "model.add(Dense(num_classes, activation='sigmoid'))\n",
        "model.compile(loss=keras.losses.categorical_crossentropy, optimizer=keras.optimizers.Adam(),metrics=['accuracy'])\n",
        "model.summary()"
      ],
      "execution_count": 0,
      "outputs": [
        {
          "output_type": "stream",
          "text": [
            "_________________________________________________________________\n",
            "Layer (type)                 Output Shape              Param #   \n",
            "=================================================================\n",
            "conv2d_13 (Conv2D)           (None, 28, 28, 64)        640       \n",
            "_________________________________________________________________\n",
            "leaky_re_lu_25 (LeakyReLU)   (None, 28, 28, 64)        0         \n",
            "_________________________________________________________________\n",
            "max_pooling2d_13 (MaxPooling (None, 14, 14, 64)        0         \n",
            "_________________________________________________________________\n",
            "conv2d_14 (Conv2D)           (None, 14, 14, 32)        18464     \n",
            "_________________________________________________________________\n",
            "leaky_re_lu_26 (LeakyReLU)   (None, 14, 14, 32)        0         \n",
            "_________________________________________________________________\n",
            "max_pooling2d_14 (MaxPooling (None, 7, 7, 32)          0         \n",
            "_________________________________________________________________\n",
            "flatten_7 (Flatten)          (None, 1568)              0         \n",
            "_________________________________________________________________\n",
            "dense_19 (Dense)             (None, 1000)              1569000   \n",
            "_________________________________________________________________\n",
            "leaky_re_lu_27 (LeakyReLU)   (None, 1000)              0         \n",
            "_________________________________________________________________\n",
            "dense_20 (Dense)             (None, 100)               100100    \n",
            "_________________________________________________________________\n",
            "leaky_re_lu_28 (LeakyReLU)   (None, 100)               0         \n",
            "_________________________________________________________________\n",
            "dense_21 (Dense)             (None, 2)                 202       \n",
            "=================================================================\n",
            "Total params: 1,688,406\n",
            "Trainable params: 1,688,406\n",
            "Non-trainable params: 0\n",
            "_________________________________________________________________\n"
          ],
          "name": "stdout"
        }
      ]
    },
    {
      "cell_type": "code",
      "metadata": {
        "id": "ODVcR2qWzejz",
        "colab_type": "code",
        "colab": {}
      },
      "source": [
        "#es = keras.callbacks.EarlyStopping(monitor='val_loss', mode='auto', verbose=1)"
      ],
      "execution_count": 0,
      "outputs": []
    },
    {
      "cell_type": "code",
      "metadata": {
        "id": "2qh-2br1-B8X",
        "colab_type": "code",
        "outputId": "0beb9acc-c87b-4bad-c462-d1669d55a672",
        "colab": {
          "base_uri": "https://localhost:8080/",
          "height": 1771
        }
      },
      "source": [
        "\n",
        "fit = model.fit(X_train, Y_train, batch_size=batch_size,epochs=epochs,verbose=1,validation_data=(X_validate,Y_validate))"
      ],
      "execution_count": 0,
      "outputs": [
        {
          "output_type": "stream",
          "text": [
            "Train on 143 samples, validate on 36 samples\n",
            "Epoch 1/50\n",
            "143/143 [==============================] - 2s 12ms/step - loss: 0.7333 - acc: 0.4406 - val_loss: 0.6954 - val_acc: 0.4444\n",
            "Epoch 2/50\n",
            "143/143 [==============================] - 1s 4ms/step - loss: 0.6929 - acc: 0.5175 - val_loss: 0.6953 - val_acc: 0.4444\n",
            "Epoch 3/50\n",
            "143/143 [==============================] - 1s 5ms/step - loss: 0.6908 - acc: 0.5175 - val_loss: 0.7033 - val_acc: 0.4444\n",
            "Epoch 4/50\n",
            "143/143 [==============================] - 1s 5ms/step - loss: 0.6897 - acc: 0.5175 - val_loss: 0.6998 - val_acc: 0.4444\n",
            "Epoch 5/50\n",
            "143/143 [==============================] - 1s 5ms/step - loss: 0.6880 - acc: 0.5315 - val_loss: 0.6800 - val_acc: 0.5556\n",
            "Epoch 6/50\n",
            "143/143 [==============================] - 1s 5ms/step - loss: 0.6918 - acc: 0.4825 - val_loss: 0.6862 - val_acc: 0.6111\n",
            "Epoch 7/50\n",
            "143/143 [==============================] - 1s 4ms/step - loss: 0.6767 - acc: 0.6503 - val_loss: 0.6896 - val_acc: 0.5556\n",
            "Epoch 8/50\n",
            "143/143 [==============================] - 1s 4ms/step - loss: 0.6622 - acc: 0.6084 - val_loss: 0.6706 - val_acc: 0.5278\n",
            "Epoch 9/50\n",
            "143/143 [==============================] - 1s 4ms/step - loss: 0.6754 - acc: 0.6014 - val_loss: 0.7670 - val_acc: 0.5000\n",
            "Epoch 10/50\n",
            "143/143 [==============================] - 1s 4ms/step - loss: 0.6668 - acc: 0.5664 - val_loss: 0.7428 - val_acc: 0.4444\n",
            "Epoch 11/50\n",
            "143/143 [==============================] - 1s 4ms/step - loss: 0.6565 - acc: 0.5524 - val_loss: 0.6915 - val_acc: 0.5000\n",
            "Epoch 12/50\n",
            "143/143 [==============================] - 1s 4ms/step - loss: 0.6649 - acc: 0.7203 - val_loss: 0.6839 - val_acc: 0.5556\n",
            "Epoch 13/50\n",
            "143/143 [==============================] - 1s 4ms/step - loss: 0.6698 - acc: 0.5804 - val_loss: 0.6853 - val_acc: 0.5278\n",
            "Epoch 14/50\n",
            "143/143 [==============================] - 1s 4ms/step - loss: 0.6522 - acc: 0.6503 - val_loss: 0.7095 - val_acc: 0.5000\n",
            "Epoch 15/50\n",
            "143/143 [==============================] - 1s 4ms/step - loss: 0.6306 - acc: 0.6154 - val_loss: 0.7197 - val_acc: 0.4444\n",
            "Epoch 16/50\n",
            "143/143 [==============================] - 1s 4ms/step - loss: 0.6052 - acc: 0.6643 - val_loss: 0.6866 - val_acc: 0.5833\n",
            "Epoch 17/50\n",
            "143/143 [==============================] - 1s 4ms/step - loss: 0.5601 - acc: 0.6573 - val_loss: 0.7912 - val_acc: 0.5000\n",
            "Epoch 18/50\n",
            "143/143 [==============================] - 1s 4ms/step - loss: 0.5531 - acc: 0.6713 - val_loss: 0.6324 - val_acc: 0.5833\n",
            "Epoch 19/50\n",
            "143/143 [==============================] - 1s 4ms/step - loss: 0.5198 - acc: 0.6993 - val_loss: 0.8387 - val_acc: 0.5556\n",
            "Epoch 20/50\n",
            "143/143 [==============================] - 1s 4ms/step - loss: 0.4898 - acc: 0.7552 - val_loss: 0.6591 - val_acc: 0.6111\n",
            "Epoch 21/50\n",
            "143/143 [==============================] - 1s 4ms/step - loss: 0.4471 - acc: 0.7762 - val_loss: 0.7168 - val_acc: 0.6111\n",
            "Epoch 22/50\n",
            "143/143 [==============================] - 1s 4ms/step - loss: 0.4128 - acc: 0.7902 - val_loss: 0.8194 - val_acc: 0.5833\n",
            "Epoch 23/50\n",
            "143/143 [==============================] - 1s 4ms/step - loss: 0.4769 - acc: 0.7273 - val_loss: 0.8745 - val_acc: 0.5000\n",
            "Epoch 24/50\n",
            "143/143 [==============================] - 1s 4ms/step - loss: 0.4108 - acc: 0.8462 - val_loss: 0.7245 - val_acc: 0.6111\n",
            "Epoch 25/50\n",
            "143/143 [==============================] - 1s 4ms/step - loss: 0.3615 - acc: 0.8531 - val_loss: 0.7783 - val_acc: 0.5000\n",
            "Epoch 26/50\n",
            "143/143 [==============================] - 1s 4ms/step - loss: 0.3223 - acc: 0.8741 - val_loss: 0.8649 - val_acc: 0.6389\n",
            "Epoch 27/50\n",
            "143/143 [==============================] - 1s 4ms/step - loss: 0.3427 - acc: 0.8252 - val_loss: 0.8686 - val_acc: 0.5278\n",
            "Epoch 28/50\n",
            "143/143 [==============================] - 0s 3ms/step - loss: 0.2867 - acc: 0.8951 - val_loss: 0.8013 - val_acc: 0.6389\n",
            "Epoch 29/50\n",
            "143/143 [==============================] - 1s 4ms/step - loss: 0.3373 - acc: 0.8252 - val_loss: 0.7590 - val_acc: 0.5833\n",
            "Epoch 30/50\n",
            "143/143 [==============================] - 1s 4ms/step - loss: 0.3249 - acc: 0.8182 - val_loss: 0.7459 - val_acc: 0.6111\n",
            "Epoch 31/50\n",
            "143/143 [==============================] - 1s 4ms/step - loss: 0.2294 - acc: 0.9091 - val_loss: 0.8432 - val_acc: 0.5833\n",
            "Epoch 32/50\n",
            "143/143 [==============================] - 0s 3ms/step - loss: 0.1908 - acc: 0.9301 - val_loss: 0.9587 - val_acc: 0.6389\n",
            "Epoch 33/50\n",
            "143/143 [==============================] - 1s 4ms/step - loss: 0.1703 - acc: 0.9371 - val_loss: 1.0640 - val_acc: 0.5278\n",
            "Epoch 34/50\n",
            "143/143 [==============================] - 1s 4ms/step - loss: 0.1557 - acc: 0.9510 - val_loss: 1.0963 - val_acc: 0.6667\n",
            "Epoch 35/50\n",
            "143/143 [==============================] - 1s 4ms/step - loss: 0.1777 - acc: 0.9301 - val_loss: 0.9530 - val_acc: 0.5278\n",
            "Epoch 36/50\n",
            "143/143 [==============================] - 0s 3ms/step - loss: 0.1135 - acc: 0.9860 - val_loss: 1.2240 - val_acc: 0.6389\n",
            "Epoch 37/50\n",
            "143/143 [==============================] - 0s 3ms/step - loss: 0.1444 - acc: 0.9441 - val_loss: 1.5257 - val_acc: 0.5278\n",
            "Epoch 38/50\n",
            "143/143 [==============================] - 0s 3ms/step - loss: 0.1235 - acc: 0.9650 - val_loss: 1.5120 - val_acc: 0.6389\n",
            "Epoch 39/50\n",
            "143/143 [==============================] - 0s 3ms/step - loss: 0.1142 - acc: 0.9790 - val_loss: 1.2767 - val_acc: 0.5833\n",
            "Epoch 40/50\n",
            "143/143 [==============================] - 0s 3ms/step - loss: 0.0724 - acc: 0.9860 - val_loss: 1.7268 - val_acc: 0.5556\n",
            "Epoch 41/50\n",
            "143/143 [==============================] - 0s 3ms/step - loss: 0.0414 - acc: 1.0000 - val_loss: 1.7968 - val_acc: 0.6667\n",
            "Epoch 42/50\n",
            "143/143 [==============================] - 0s 3ms/step - loss: 0.0341 - acc: 1.0000 - val_loss: 2.1413 - val_acc: 0.5556\n",
            "Epoch 43/50\n",
            "143/143 [==============================] - 0s 3ms/step - loss: 0.0292 - acc: 1.0000 - val_loss: 1.7793 - val_acc: 0.7500\n",
            "Epoch 44/50\n",
            "143/143 [==============================] - 0s 3ms/step - loss: 0.0209 - acc: 1.0000 - val_loss: 1.6766 - val_acc: 0.6111\n",
            "Epoch 45/50\n",
            "143/143 [==============================] - 0s 3ms/step - loss: 0.0131 - acc: 1.0000 - val_loss: nan - val_acc: 0.7222\n",
            "Epoch 46/50\n",
            "143/143 [==============================] - 0s 3ms/step - loss: 0.0272 - acc: 1.0000 - val_loss: 2.1623 - val_acc: 0.5278\n",
            "Epoch 47/50\n",
            "143/143 [==============================] - 0s 3ms/step - loss: 0.0256 - acc: 1.0000 - val_loss: 2.1184 - val_acc: 0.7222\n",
            "Epoch 48/50\n",
            "143/143 [==============================] - 0s 3ms/step - loss: 0.0152 - acc: 1.0000 - val_loss: 2.6509 - val_acc: 0.6667\n",
            "Epoch 49/50\n",
            "143/143 [==============================] - 0s 3ms/step - loss: 0.0141 - acc: 1.0000 - val_loss: 1.8348 - val_acc: 0.5278\n",
            "Epoch 50/50\n",
            "143/143 [==============================] - 0s 3ms/step - loss: 0.0106 - acc: 1.0000 - val_loss: 1.9301 - val_acc: 0.5556\n"
          ],
          "name": "stdout"
        }
      ]
    },
    {
      "cell_type": "markdown",
      "metadata": {
        "id": "ucpLUXfE10jX",
        "colab_type": "text"
      },
      "source": [
        ""
      ]
    },
    {
      "cell_type": "code",
      "metadata": {
        "id": "EVdRqAwA-d6x",
        "colab_type": "code",
        "outputId": "ed0030c3-676c-4a12-d799-d801649224f4",
        "colab": {
          "base_uri": "https://localhost:8080/",
          "height": 34
        }
      },
      "source": [
        "\n",
        "score, acc = model.evaluate(test_features_reshaped, test_labels_one_hot,\n",
        "                            batch_size=batch_size)"
      ],
      "execution_count": 0,
      "outputs": [
        {
          "output_type": "stream",
          "text": [
            "121/121 [==============================] - 0s 691us/step\n"
          ],
          "name": "stdout"
        }
      ]
    },
    {
      "cell_type": "code",
      "metadata": {
        "id": "Kk_xl4EvBoPV",
        "colab_type": "code",
        "outputId": "ff5f3d50-e6ce-4aa0-fd02-8df8e340635b",
        "colab": {
          "base_uri": "https://localhost:8080/",
          "height": 34
        }
      },
      "source": [
        "print(score,acc)"
      ],
      "execution_count": 0,
      "outputs": [
        {
          "output_type": "stream",
          "text": [
            "1.7006362893364646 0.7024793309613693\n"
          ],
          "name": "stdout"
        }
      ]
    },
    {
      "cell_type": "code",
      "metadata": {
        "id": "5C7L-1x5CV0_",
        "colab_type": "code",
        "colab": {}
      },
      "source": [
        ""
      ],
      "execution_count": 0,
      "outputs": []
    }
  ]
}