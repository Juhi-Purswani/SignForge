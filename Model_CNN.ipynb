{
  "nbformat": 4,
  "nbformat_minor": 0,
  "metadata": {
    "colab": {
      "name": "Model_CNN.ipynb",
      "version": "0.3.2",
      "provenance": []
    },
    "kernelspec": {
      "name": "python3",
      "display_name": "Python 3"
    },
    "accelerator": "TPU"
  },
  "cells": [
    {
      "cell_type": "code",
      "metadata": {
        "id": "-vK21pbxhI8q",
        "colab_type": "code",
        "colab": {
          "base_uri": "https://localhost:8080/",
          "height": 124
        },
        "outputId": "d76367b9-ce24-42e0-c609-a8c41ba7df9c"
      },
      "source": [
        "from google.colab import drive\n",
        "drive.mount('/content/drive')"
      ],
      "execution_count": 6,
      "outputs": [
        {
          "output_type": "stream",
          "text": [
            "Go to this URL in a browser: https://accounts.google.com/o/oauth2/auth?client_id=947318989803-6bn6qk8qdgf4n4g3pfee6491hc0brc4i.apps.googleusercontent.com&redirect_uri=urn%3Aietf%3Awg%3Aoauth%3A2.0%3Aoob&scope=email%20https%3A%2F%2Fwww.googleapis.com%2Fauth%2Fdocs.test%20https%3A%2F%2Fwww.googleapis.com%2Fauth%2Fdrive%20https%3A%2F%2Fwww.googleapis.com%2Fauth%2Fdrive.photos.readonly%20https%3A%2F%2Fwww.googleapis.com%2Fauth%2Fpeopleapi.readonly&response_type=code\n",
            "\n",
            "Enter your authorization code:\n",
            "··········\n",
            "Mounted at /content/drive\n"
          ],
          "name": "stdout"
        }
      ]
    },
    {
      "cell_type": "code",
      "metadata": {
        "id": "b1er4pvHhTJ8",
        "colab_type": "code",
        "colab": {
          "base_uri": "https://localhost:8080/",
          "height": 34
        },
        "outputId": "b6cc6e0f-2bc8-47b0-af17-86d61083365c"
      },
      "source": [
        "!ls"
      ],
      "execution_count": 9,
      "outputs": [
        {
          "output_type": "stream",
          "text": [
            "data\n"
          ],
          "name": "stdout"
        }
      ]
    },
    {
      "cell_type": "code",
      "metadata": {
        "id": "qzeXniJuhcZ3",
        "colab_type": "code",
        "colab": {}
      },
      "source": [
        "import os\n",
        "os.chdir('./drive/My Drive/Signature_Forgery')"
      ],
      "execution_count": 0,
      "outputs": []
    },
    {
      "cell_type": "code",
      "metadata": {
        "id": "QxvX3RDahpqc",
        "colab_type": "code",
        "colab": {}
      },
      "source": [
        "import cv2                 \n",
        "import numpy as np         \n",
        "import os                  \n",
        "from random import shuffle \n",
        "from tqdm import tqdm \n",
        "import numpy as np\n",
        "\n",
        "from keras.utils import to_categorical\n",
        "import matplotlib.pyplot as plt\n",
        "\n",
        "import keras\n",
        "from keras.models import Sequential,Input,Model\n",
        "from keras.layers import Dense, Dropout, Flatten\n",
        "from keras.layers import Conv2D, MaxPooling2D\n",
        "from keras.layers.normalization import BatchNormalization\n",
        "from keras.layers.advanced_activations import LeakyReLU\n",
        "\n",
        "from sklearn.metrics import accuracy_score"
      ],
      "execution_count": 0,
      "outputs": []
    },
    {
      "cell_type": "code",
      "metadata": {
        "id": "jMl75x6SivIz",
        "colab_type": "code",
        "colab": {}
      },
      "source": [
        "TRAIN_DIR = 'data/train_set'\n",
        "TEST_DIR = 'data/test_set'\n",
        "IMG_SIZE = 28"
      ],
      "execution_count": 0,
      "outputs": []
    },
    {
      "cell_type": "code",
      "metadata": {
        "id": "5MTOzVL3i-Pb",
        "colab_type": "code",
        "colab": {}
      },
      "source": [
        "def label_img(img):\n",
        "    image_label = img.split('.')\n",
        "    name = image_label[0]\n",
        "    # checking if the signature is forged or genuine\n",
        "    #                            \n",
        "    \n",
        "    if name[4:7] == name[-3:]:\n",
        "        return 1\n",
        "  \n",
        "    elif name[4:7] != name[-3:]:\n",
        "        return 0\n",
        "\n",
        "def person_img(img):\n",
        "    label = img.split('.')\n",
        "    k = label[0]\n",
        "    return [k[-3:]]\n",
        "\n",
        "\n",
        "def create_features(DIR):\n",
        "    features = []\n",
        "    labels = []\n",
        "    for img in tqdm(os.listdir(DIR)):\n",
        "        label = label_img(img)\n",
        "        person = person_img(img)\n",
        "       \n",
        "        path = os.path.join(DIR,img)\n",
        "        img = cv2.imread(path,cv2.IMREAD_GRAYSCALE)\n",
        "        img = cv2.resize(img, (IMG_SIZE,IMG_SIZE))\n",
        "        features.append([img])\n",
        "        labels.append(np.array(label))\n",
        "    #shuffle(training_data)\n",
        "    #np.save('train_data.npy', training_data)\n",
        "    return features\n",
        "\n",
        "def create_labels(DIR):\n",
        "    labels = []\n",
        "    for img in tqdm(os.listdir(DIR)):\n",
        "        label = label_img(img)\n",
        "        labels.append(np.array(label))\n",
        "    return labels"
      ],
      "execution_count": 0,
      "outputs": []
    },
    {
      "cell_type": "code",
      "metadata": {
        "id": "33X6BHLgjBnO",
        "colab_type": "code",
        "colab": {
          "base_uri": "https://localhost:8080/",
          "height": 86
        },
        "outputId": "9c67f11f-6871-4203-abd7-337fc8650aed"
      },
      "source": [
        "train_features  = np.array(create_features(TRAIN_DIR))\n",
        "test_features  = np.array(create_features(TEST_DIR))\n",
        "train_features_reshaped = train_features.reshape(-1, 28,28, 1)\n",
        "test_features_reshaped = test_features.reshape(-1, 28,28, 1)\n",
        "\n",
        "train_features_reshaped = train_features_reshaped.astype('float32')\n",
        "test_features_reshaped = test_features_reshaped.astype('float32')\n",
        "train_features_reshaped = train_features_reshaped / 255.\n",
        "test_features_reshaped = test_features_reshaped / 255.\n",
        "\n",
        "train_labels = np.array(create_labels(TRAIN_DIR))\n",
        "test_labels = np.array(create_labels(TEST_DIR))\n",
        "\n",
        "\n",
        "train_labels_one_hot = to_categorical(train_labels)\n",
        "test_labels_one_hot = to_categorical(test_labels)"
      ],
      "execution_count": 15,
      "outputs": [
        {
          "output_type": "stream",
          "text": [
            "100%|██████████| 179/179 [00:02<00:00, 74.16it/s]\n",
            "100%|██████████| 121/121 [00:01<00:00, 73.15it/s]\n",
            "100%|██████████| 179/179 [00:00<00:00, 212685.67it/s]\n",
            "100%|██████████| 121/121 [00:00<00:00, 92241.15it/s]\n"
          ],
          "name": "stderr"
        }
      ]
    },
    {
      "cell_type": "code",
      "metadata": {
        "id": "Ph53c1fb7UAE",
        "colab_type": "code",
        "colab": {
          "base_uri": "https://localhost:8080/",
          "height": 34
        },
        "outputId": "a6ac4e0a-26ef-494a-ed0b-0ea82cd1e333"
      },
      "source": [
        "print(test_labels_one_hot.shape)"
      ],
      "execution_count": 17,
      "outputs": [
        {
          "output_type": "stream",
          "text": [
            "(121, 2)\n"
          ],
          "name": "stdout"
        }
      ]
    },
    {
      "cell_type": "code",
      "metadata": {
        "id": "RbNcl2IxkJ_D",
        "colab_type": "code",
        "colab": {}
      },
      "source": [
        "batch_size = 64\n",
        "epochs = 100\n",
        "num_classes = 2"
      ],
      "execution_count": 0,
      "outputs": []
    },
    {
      "cell_type": "code",
      "metadata": {
        "id": "q-aqflnYkuP2",
        "colab_type": "code",
        "colab": {
          "base_uri": "https://localhost:8080/",
          "height": 555
        },
        "outputId": "54f31498-5c5d-49b5-c72c-207fe8bc5b0c"
      },
      "source": [
        "model = Sequential()\n",
        "model.add(Conv2D(64,kernel_size=(3,3),activation = 'linear',input_shape=(28,28,1),padding='same'))\n",
        "model.add(LeakyReLU(alpha=0.1))\n",
        "model.add(MaxPooling2D((2,2),padding='same'))\n",
        "model.add(Conv2D(32,kernel_size=(3,3),activation = 'linear',padding='same'))\n",
        "model.add(LeakyReLU(alpha=0.1))\n",
        "model.add(MaxPooling2D((2,2),padding='same'))\n",
        "model.add(Flatten())\n",
        "model.add(Dense(1000, activation='linear'))\n",
        "model.add(LeakyReLU(alpha=0.1))   \n",
        "model.add(Dense(100, activation='linear'))\n",
        "model.add(LeakyReLU(alpha=0.1))   \n",
        "model.add(Dense(num_classes, activation='softmax'))\n",
        "model.compile(loss=keras.losses.categorical_crossentropy, optimizer=keras.optimizers.Adam(),metrics=['accuracy'])\n",
        "model.summary()"
      ],
      "execution_count": 50,
      "outputs": [
        {
          "output_type": "stream",
          "text": [
            "_________________________________________________________________\n",
            "Layer (type)                 Output Shape              Param #   \n",
            "=================================================================\n",
            "conv2d_17 (Conv2D)           (None, 28, 28, 64)        640       \n",
            "_________________________________________________________________\n",
            "leaky_re_lu_11 (LeakyReLU)   (None, 28, 28, 64)        0         \n",
            "_________________________________________________________________\n",
            "max_pooling2d_16 (MaxPooling (None, 14, 14, 64)        0         \n",
            "_________________________________________________________________\n",
            "conv2d_18 (Conv2D)           (None, 14, 14, 32)        18464     \n",
            "_________________________________________________________________\n",
            "leaky_re_lu_12 (LeakyReLU)   (None, 14, 14, 32)        0         \n",
            "_________________________________________________________________\n",
            "max_pooling2d_17 (MaxPooling (None, 7, 7, 32)          0         \n",
            "_________________________________________________________________\n",
            "flatten_10 (Flatten)         (None, 1568)              0         \n",
            "_________________________________________________________________\n",
            "dense_21 (Dense)             (None, 1000)              1569000   \n",
            "_________________________________________________________________\n",
            "leaky_re_lu_13 (LeakyReLU)   (None, 1000)              0         \n",
            "_________________________________________________________________\n",
            "dense_22 (Dense)             (None, 100)               100100    \n",
            "_________________________________________________________________\n",
            "leaky_re_lu_14 (LeakyReLU)   (None, 100)               0         \n",
            "_________________________________________________________________\n",
            "dense_23 (Dense)             (None, 2)                 202       \n",
            "=================================================================\n",
            "Total params: 1,688,406\n",
            "Trainable params: 1,688,406\n",
            "Non-trainable params: 0\n",
            "_________________________________________________________________\n"
          ],
          "name": "stdout"
        }
      ]
    },
    {
      "cell_type": "code",
      "metadata": {
        "id": "2qh-2br1-B8X",
        "colab_type": "code",
        "colab": {
          "base_uri": "https://localhost:8080/",
          "height": 3508
        },
        "outputId": "a6dd5aab-f599-4ed2-8645-8f582758337a"
      },
      "source": [
        "\n",
        "fit = model.fit(train_features_reshaped, train_labels_one_hot, batch_size=batch_size,epochs=epochs,verbose=1,validation_split=0.3)"
      ],
      "execution_count": 51,
      "outputs": [
        {
          "output_type": "stream",
          "text": [
            "Train on 125 samples, validate on 54 samples\n",
            "Epoch 1/100\n",
            "125/125 [==============================] - 2s 12ms/step - loss: 0.8588 - acc: 0.5520 - val_loss: 0.8092 - val_acc: 0.3889\n",
            "Epoch 2/100\n",
            "125/125 [==============================] - 0s 2ms/step - loss: 0.6877 - acc: 0.5520 - val_loss: 0.6760 - val_acc: 0.6111\n",
            "Epoch 3/100\n",
            "125/125 [==============================] - 0s 2ms/step - loss: 0.7039 - acc: 0.4480 - val_loss: 0.6851 - val_acc: 0.6111\n",
            "Epoch 4/100\n",
            "125/125 [==============================] - 0s 2ms/step - loss: 0.6925 - acc: 0.4480 - val_loss: 0.7042 - val_acc: 0.3889\n",
            "Epoch 5/100\n",
            "125/125 [==============================] - 0s 3ms/step - loss: 0.6962 - acc: 0.5520 - val_loss: 0.7217 - val_acc: 0.3889\n",
            "Epoch 6/100\n",
            "125/125 [==============================] - 0s 3ms/step - loss: 0.6850 - acc: 0.5520 - val_loss: 0.7116 - val_acc: 0.3889\n",
            "Epoch 7/100\n",
            "125/125 [==============================] - 0s 3ms/step - loss: 0.6868 - acc: 0.5520 - val_loss: 0.7220 - val_acc: 0.3889\n",
            "Epoch 8/100\n",
            "125/125 [==============================] - 0s 3ms/step - loss: 0.6820 - acc: 0.5520 - val_loss: 0.7126 - val_acc: 0.3889\n",
            "Epoch 9/100\n",
            "125/125 [==============================] - 0s 3ms/step - loss: 0.6788 - acc: 0.5520 - val_loss: 0.7094 - val_acc: 0.3704\n",
            "Epoch 10/100\n",
            "125/125 [==============================] - 0s 3ms/step - loss: 0.6735 - acc: 0.6240 - val_loss: 0.7190 - val_acc: 0.3704\n",
            "Epoch 11/100\n",
            "125/125 [==============================] - 0s 3ms/step - loss: 0.6710 - acc: 0.5920 - val_loss: 0.7185 - val_acc: 0.4815\n",
            "Epoch 12/100\n",
            "125/125 [==============================] - 0s 3ms/step - loss: 0.6764 - acc: 0.6080 - val_loss: 0.7039 - val_acc: 0.5000\n",
            "Epoch 13/100\n",
            "125/125 [==============================] - 0s 3ms/step - loss: 0.6715 - acc: 0.5600 - val_loss: 0.6868 - val_acc: 0.4630\n",
            "Epoch 14/100\n",
            "125/125 [==============================] - 0s 3ms/step - loss: 0.6337 - acc: 0.6720 - val_loss: 0.7445 - val_acc: 0.3889\n",
            "Epoch 15/100\n",
            "125/125 [==============================] - 0s 3ms/step - loss: 0.6376 - acc: 0.6240 - val_loss: 0.7423 - val_acc: 0.4074\n",
            "Epoch 16/100\n",
            "125/125 [==============================] - 0s 3ms/step - loss: 0.6246 - acc: 0.6480 - val_loss: 0.7032 - val_acc: 0.5000\n",
            "Epoch 17/100\n",
            "125/125 [==============================] - 0s 3ms/step - loss: 0.5970 - acc: 0.6960 - val_loss: 0.6914 - val_acc: 0.5000\n",
            "Epoch 18/100\n",
            "125/125 [==============================] - 0s 3ms/step - loss: 0.5937 - acc: 0.6960 - val_loss: 0.7023 - val_acc: 0.5000\n",
            "Epoch 19/100\n",
            "125/125 [==============================] - 0s 3ms/step - loss: 0.5925 - acc: 0.6320 - val_loss: 0.7665 - val_acc: 0.5000\n",
            "Epoch 20/100\n",
            "125/125 [==============================] - 0s 3ms/step - loss: 0.5533 - acc: 0.6800 - val_loss: 0.8300 - val_acc: 0.4815\n",
            "Epoch 21/100\n",
            "125/125 [==============================] - 0s 3ms/step - loss: 0.5294 - acc: 0.7200 - val_loss: 0.6684 - val_acc: 0.6481\n",
            "Epoch 22/100\n",
            "125/125 [==============================] - 0s 3ms/step - loss: 0.5275 - acc: 0.7280 - val_loss: 0.7190 - val_acc: 0.4815\n",
            "Epoch 23/100\n",
            "125/125 [==============================] - 0s 3ms/step - loss: 0.4931 - acc: 0.7040 - val_loss: 0.8356 - val_acc: 0.5185\n",
            "Epoch 24/100\n",
            "125/125 [==============================] - 0s 3ms/step - loss: 0.4871 - acc: 0.7120 - val_loss: 0.7669 - val_acc: 0.5000\n",
            "Epoch 25/100\n",
            "125/125 [==============================] - 0s 3ms/step - loss: 0.4587 - acc: 0.7200 - val_loss: 0.7473 - val_acc: 0.5000\n",
            "Epoch 26/100\n",
            "125/125 [==============================] - 0s 3ms/step - loss: 0.4383 - acc: 0.7440 - val_loss: 0.9010 - val_acc: 0.4815\n",
            "Epoch 27/100\n",
            "125/125 [==============================] - 0s 3ms/step - loss: 0.4295 - acc: 0.7520 - val_loss: 0.8126 - val_acc: 0.5185\n",
            "Epoch 28/100\n",
            "125/125 [==============================] - 0s 3ms/step - loss: 0.4254 - acc: 0.7840 - val_loss: 1.0075 - val_acc: 0.5185\n",
            "Epoch 29/100\n",
            "125/125 [==============================] - 0s 3ms/step - loss: 0.4001 - acc: 0.7840 - val_loss: 0.7903 - val_acc: 0.5556\n",
            "Epoch 30/100\n",
            "125/125 [==============================] - 0s 3ms/step - loss: 0.3831 - acc: 0.7840 - val_loss: 0.8044 - val_acc: 0.5741\n",
            "Epoch 31/100\n",
            "125/125 [==============================] - 0s 3ms/step - loss: 0.3747 - acc: 0.8000 - val_loss: 0.9238 - val_acc: 0.5185\n",
            "Epoch 32/100\n",
            "125/125 [==============================] - 0s 3ms/step - loss: 0.3412 - acc: 0.8240 - val_loss: 0.7706 - val_acc: 0.6481\n",
            "Epoch 33/100\n",
            "125/125 [==============================] - 0s 3ms/step - loss: 0.3206 - acc: 0.8720 - val_loss: 1.0156 - val_acc: 0.5185\n",
            "Epoch 34/100\n",
            "125/125 [==============================] - 0s 3ms/step - loss: 0.3041 - acc: 0.8240 - val_loss: 0.8058 - val_acc: 0.6852\n",
            "Epoch 35/100\n",
            "125/125 [==============================] - 0s 3ms/step - loss: 0.2863 - acc: 0.8960 - val_loss: 1.0359 - val_acc: 0.5741\n",
            "Epoch 36/100\n",
            "125/125 [==============================] - 0s 3ms/step - loss: 0.2689 - acc: 0.8640 - val_loss: 0.8682 - val_acc: 0.6296\n",
            "Epoch 37/100\n",
            "125/125 [==============================] - 0s 3ms/step - loss: 0.2553 - acc: 0.8800 - val_loss: 0.8591 - val_acc: 0.6296\n",
            "Epoch 38/100\n",
            "125/125 [==============================] - 0s 3ms/step - loss: 0.2216 - acc: 0.9280 - val_loss: 0.9850 - val_acc: 0.6296\n",
            "Epoch 39/100\n",
            "125/125 [==============================] - 0s 3ms/step - loss: 0.1954 - acc: 0.9440 - val_loss: 0.9520 - val_acc: 0.6296\n",
            "Epoch 40/100\n",
            "125/125 [==============================] - 0s 3ms/step - loss: 0.1862 - acc: 0.9360 - val_loss: 1.1607 - val_acc: 0.5741\n",
            "Epoch 41/100\n",
            "125/125 [==============================] - 0s 3ms/step - loss: 0.1662 - acc: 0.9360 - val_loss: 0.8847 - val_acc: 0.7593\n",
            "Epoch 42/100\n",
            "125/125 [==============================] - 0s 3ms/step - loss: 0.1417 - acc: 0.9680 - val_loss: 1.1694 - val_acc: 0.6296\n",
            "Epoch 43/100\n",
            "125/125 [==============================] - 0s 3ms/step - loss: 0.1214 - acc: 0.9600 - val_loss: 1.0141 - val_acc: 0.6296\n",
            "Epoch 44/100\n",
            "125/125 [==============================] - 0s 3ms/step - loss: 0.0957 - acc: 0.9760 - val_loss: 1.3439 - val_acc: 0.6296\n",
            "Epoch 45/100\n",
            "125/125 [==============================] - 0s 3ms/step - loss: 0.0892 - acc: 0.9840 - val_loss: 0.9768 - val_acc: 0.7963\n",
            "Epoch 46/100\n",
            "125/125 [==============================] - 0s 3ms/step - loss: 0.0810 - acc: 0.9920 - val_loss: 1.5696 - val_acc: 0.5926\n",
            "Epoch 47/100\n",
            "125/125 [==============================] - 0s 3ms/step - loss: 0.0598 - acc: 0.9920 - val_loss: 1.2219 - val_acc: 0.7037\n",
            "Epoch 48/100\n",
            "125/125 [==============================] - 0s 3ms/step - loss: 0.0435 - acc: 0.9920 - val_loss: 1.6615 - val_acc: 0.6111\n",
            "Epoch 49/100\n",
            "125/125 [==============================] - 0s 3ms/step - loss: 0.0301 - acc: 1.0000 - val_loss: 1.3523 - val_acc: 0.6667\n",
            "Epoch 50/100\n",
            "125/125 [==============================] - 0s 3ms/step - loss: 0.0193 - acc: 1.0000 - val_loss: 1.2645 - val_acc: 0.7222\n",
            "Epoch 51/100\n",
            "125/125 [==============================] - 0s 3ms/step - loss: 0.0180 - acc: 1.0000 - val_loss: 1.5220 - val_acc: 0.6667\n",
            "Epoch 52/100\n",
            "125/125 [==============================] - 0s 3ms/step - loss: 0.0162 - acc: 1.0000 - val_loss: 1.5209 - val_acc: 0.6852\n",
            "Epoch 53/100\n",
            "125/125 [==============================] - 0s 3ms/step - loss: 0.0086 - acc: 1.0000 - val_loss: 1.3933 - val_acc: 0.7963\n",
            "Epoch 54/100\n",
            "125/125 [==============================] - 0s 3ms/step - loss: 0.0091 - acc: 1.0000 - val_loss: 1.6952 - val_acc: 0.6667\n",
            "Epoch 55/100\n",
            "125/125 [==============================] - 0s 3ms/step - loss: 0.0073 - acc: 1.0000 - val_loss: 1.7892 - val_acc: 0.6481\n",
            "Epoch 56/100\n",
            "125/125 [==============================] - 0s 3ms/step - loss: 0.0042 - acc: 1.0000 - val_loss: 1.5851 - val_acc: 0.7593\n",
            "Epoch 57/100\n",
            "125/125 [==============================] - 0s 3ms/step - loss: 0.0047 - acc: 1.0000 - val_loss: 1.6470 - val_acc: 0.7222\n",
            "Epoch 58/100\n",
            "125/125 [==============================] - 0s 3ms/step - loss: 0.0028 - acc: 1.0000 - val_loss: 1.8948 - val_acc: 0.6852\n",
            "Epoch 59/100\n",
            "125/125 [==============================] - 0s 3ms/step - loss: 0.0029 - acc: 1.0000 - val_loss: 1.9940 - val_acc: 0.6852\n",
            "Epoch 60/100\n",
            "125/125 [==============================] - 0s 3ms/step - loss: 0.0023 - acc: 1.0000 - val_loss: 1.8504 - val_acc: 0.7037\n",
            "Epoch 61/100\n",
            "125/125 [==============================] - 0s 3ms/step - loss: 0.0018 - acc: 1.0000 - val_loss: 1.7368 - val_acc: 0.7222\n",
            "Epoch 62/100\n",
            "125/125 [==============================] - 0s 3ms/step - loss: 0.0018 - acc: 1.0000 - val_loss: 1.7821 - val_acc: 0.7222\n",
            "Epoch 63/100\n",
            "125/125 [==============================] - 0s 3ms/step - loss: 0.0013 - acc: 1.0000 - val_loss: 1.9217 - val_acc: 0.6852\n",
            "Epoch 64/100\n",
            "125/125 [==============================] - 0s 3ms/step - loss: 0.0011 - acc: 1.0000 - val_loss: 2.0578 - val_acc: 0.6852\n",
            "Epoch 65/100\n",
            "125/125 [==============================] - 0s 3ms/step - loss: 0.0012 - acc: 1.0000 - val_loss: 2.0627 - val_acc: 0.6852\n",
            "Epoch 66/100\n",
            "125/125 [==============================] - 0s 3ms/step - loss: 0.0010 - acc: 1.0000 - val_loss: 1.9605 - val_acc: 0.6852\n",
            "Epoch 67/100\n",
            "125/125 [==============================] - 0s 3ms/step - loss: 8.0148e-04 - acc: 1.0000 - val_loss: 1.8984 - val_acc: 0.7222\n",
            "Epoch 68/100\n",
            "125/125 [==============================] - 0s 3ms/step - loss: 8.0564e-04 - acc: 1.0000 - val_loss: 1.8931 - val_acc: 0.7222\n",
            "Epoch 69/100\n",
            "125/125 [==============================] - 0s 3ms/step - loss: 7.4960e-04 - acc: 1.0000 - val_loss: 1.9398 - val_acc: 0.7037\n",
            "Epoch 70/100\n",
            "125/125 [==============================] - 0s 3ms/step - loss: 6.6008e-04 - acc: 1.0000 - val_loss: 2.0188 - val_acc: 0.6852\n",
            "Epoch 71/100\n",
            "125/125 [==============================] - 0s 3ms/step - loss: 6.1568e-04 - acc: 1.0000 - val_loss: 2.0755 - val_acc: 0.6852\n",
            "Epoch 72/100\n",
            "125/125 [==============================] - 0s 3ms/step - loss: 6.1260e-04 - acc: 1.0000 - val_loss: 2.0850 - val_acc: 0.6852\n",
            "Epoch 73/100\n",
            "125/125 [==============================] - 0s 3ms/step - loss: 5.6993e-04 - acc: 1.0000 - val_loss: 2.0490 - val_acc: 0.6852\n",
            "Epoch 74/100\n",
            "125/125 [==============================] - 0s 3ms/step - loss: 5.2152e-04 - acc: 1.0000 - val_loss: 2.0002 - val_acc: 0.7037\n",
            "Epoch 75/100\n",
            "125/125 [==============================] - 0s 3ms/step - loss: 5.0521e-04 - acc: 1.0000 - val_loss: 1.9727 - val_acc: 0.7037\n",
            "Epoch 76/100\n",
            "125/125 [==============================] - 0s 3ms/step - loss: 4.9399e-04 - acc: 1.0000 - val_loss: 1.9832 - val_acc: 0.7037\n",
            "Epoch 77/100\n",
            "125/125 [==============================] - 0s 3ms/step - loss: 4.6803e-04 - acc: 1.0000 - val_loss: 2.0143 - val_acc: 0.7037\n",
            "Epoch 78/100\n",
            "125/125 [==============================] - 0s 3ms/step - loss: 4.4643e-04 - acc: 1.0000 - val_loss: 2.0555 - val_acc: 0.6852\n",
            "Epoch 79/100\n",
            "125/125 [==============================] - 0s 3ms/step - loss: 4.3114e-04 - acc: 1.0000 - val_loss: 2.0799 - val_acc: 0.6852\n",
            "Epoch 80/100\n",
            "125/125 [==============================] - 0s 3ms/step - loss: 4.2160e-04 - acc: 1.0000 - val_loss: 2.0808 - val_acc: 0.6852\n",
            "Epoch 81/100\n",
            "125/125 [==============================] - 0s 3ms/step - loss: 4.0937e-04 - acc: 1.0000 - val_loss: 2.0670 - val_acc: 0.6852\n",
            "Epoch 82/100\n",
            "125/125 [==============================] - 0s 3ms/step - loss: 3.9332e-04 - acc: 1.0000 - val_loss: 2.0563 - val_acc: 0.6852\n",
            "Epoch 83/100\n",
            "125/125 [==============================] - 0s 3ms/step - loss: 3.8197e-04 - acc: 1.0000 - val_loss: 2.0494 - val_acc: 0.7037\n",
            "Epoch 84/100\n",
            "125/125 [==============================] - 0s 3ms/step - loss: 3.7246e-04 - acc: 1.0000 - val_loss: 2.0583 - val_acc: 0.7037\n",
            "Epoch 85/100\n",
            "125/125 [==============================] - 0s 3ms/step - loss: 3.6138e-04 - acc: 1.0000 - val_loss: 2.0675 - val_acc: 0.6852\n",
            "Epoch 86/100\n",
            "125/125 [==============================] - 0s 3ms/step - loss: 3.5155e-04 - acc: 1.0000 - val_loss: 2.0769 - val_acc: 0.6852\n",
            "Epoch 87/100\n",
            "125/125 [==============================] - 0s 3ms/step - loss: 3.4122e-04 - acc: 1.0000 - val_loss: 2.0803 - val_acc: 0.6852\n",
            "Epoch 88/100\n",
            "125/125 [==============================] - 0s 3ms/step - loss: 3.3333e-04 - acc: 1.0000 - val_loss: 2.0857 - val_acc: 0.6852\n",
            "Epoch 89/100\n",
            "125/125 [==============================] - 0s 3ms/step - loss: 3.2503e-04 - acc: 1.0000 - val_loss: 2.0879 - val_acc: 0.6852\n",
            "Epoch 90/100\n",
            "125/125 [==============================] - 0s 3ms/step - loss: 3.1661e-04 - acc: 1.0000 - val_loss: 2.0907 - val_acc: 0.6852\n",
            "Epoch 91/100\n",
            "125/125 [==============================] - 0s 3ms/step - loss: 3.0915e-04 - acc: 1.0000 - val_loss: 2.0947 - val_acc: 0.6852\n",
            "Epoch 92/100\n",
            "125/125 [==============================] - 0s 3ms/step - loss: 3.0189e-04 - acc: 1.0000 - val_loss: 2.0989 - val_acc: 0.6852\n",
            "Epoch 93/100\n",
            "125/125 [==============================] - 0s 3ms/step - loss: 2.9596e-04 - acc: 1.0000 - val_loss: 2.0968 - val_acc: 0.6852\n",
            "Epoch 94/100\n",
            "125/125 [==============================] - 0s 3ms/step - loss: 2.8813e-04 - acc: 1.0000 - val_loss: 2.1014 - val_acc: 0.6852\n",
            "Epoch 95/100\n",
            "125/125 [==============================] - 0s 3ms/step - loss: 2.8163e-04 - acc: 1.0000 - val_loss: 2.1087 - val_acc: 0.6852\n",
            "Epoch 96/100\n",
            "125/125 [==============================] - 0s 3ms/step - loss: 2.7738e-04 - acc: 1.0000 - val_loss: 2.1218 - val_acc: 0.6852\n",
            "Epoch 97/100\n",
            "125/125 [==============================] - 0s 3ms/step - loss: 2.6989e-04 - acc: 1.0000 - val_loss: 2.1232 - val_acc: 0.6852\n",
            "Epoch 98/100\n",
            "125/125 [==============================] - 0s 3ms/step - loss: 2.6426e-04 - acc: 1.0000 - val_loss: 2.1200 - val_acc: 0.6852\n",
            "Epoch 99/100\n",
            "125/125 [==============================] - 0s 3ms/step - loss: 2.5852e-04 - acc: 1.0000 - val_loss: 2.1209 - val_acc: 0.6852\n",
            "Epoch 100/100\n",
            "125/125 [==============================] - 0s 3ms/step - loss: 2.5338e-04 - acc: 1.0000 - val_loss: 2.1187 - val_acc: 0.6852\n"
          ],
          "name": "stdout"
        }
      ]
    },
    {
      "cell_type": "code",
      "metadata": {
        "id": "EVdRqAwA-d6x",
        "colab_type": "code",
        "colab": {
          "base_uri": "https://localhost:8080/",
          "height": 34
        },
        "outputId": "844e976d-0d1c-42f2-88af-143088d3bcf0"
      },
      "source": [
        "\n",
        "score, acc = model.evaluate(test_features_reshaped, test_labels_one_hot,\n",
        "                            batch_size=batch_size)"
      ],
      "execution_count": 52,
      "outputs": [
        {
          "output_type": "stream",
          "text": [
            "121/121 [==============================] - 0s 684us/step\n"
          ],
          "name": "stdout"
        }
      ]
    },
    {
      "cell_type": "code",
      "metadata": {
        "id": "Kk_xl4EvBoPV",
        "colab_type": "code",
        "colab": {
          "base_uri": "https://localhost:8080/",
          "height": 34
        },
        "outputId": "c93a71ab-6c8f-42bd-d8e0-eac76d18bcd4"
      },
      "source": [
        "print(score,acc)"
      ],
      "execution_count": 53,
      "outputs": [
        {
          "output_type": "stream",
          "text": [
            "1.7043763014895856 0.6776859385908143\n"
          ],
          "name": "stdout"
        }
      ]
    },
    {
      "cell_type": "code",
      "metadata": {
        "id": "5C7L-1x5CV0_",
        "colab_type": "code",
        "colab": {}
      },
      "source": [
        ""
      ],
      "execution_count": 0,
      "outputs": []
    }
  ]
}